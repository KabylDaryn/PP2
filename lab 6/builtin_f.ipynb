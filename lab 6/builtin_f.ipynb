{
 "cells": [
  {
   "cell_type": "markdown",
   "metadata": {},
   "source": [
    "task 1"
   ]
  },
  {
   "cell_type": "code",
   "execution_count": 45,
   "metadata": {},
   "outputs": [
    {
     "name": "stdout",
     "output_type": "stream",
     "text": [
      "3220\n"
     ]
    }
   ],
   "source": [
    "from functools import reduce\n",
    "def multiply_list(numbers):\n",
    "    return reduce(lambda x,y:x*y,numbers)\n",
    "nums=[1,23,4,5,7]\n",
    "x=multiply_list(nums)\n",
    "print(x)"
   ]
  },
  {
   "cell_type": "markdown",
   "metadata": {},
   "source": [
    "task 2"
   ]
  },
  {
   "cell_type": "code",
   "execution_count": 46,
   "metadata": {},
   "outputs": [
    {
     "name": "stdout",
     "output_type": "stream",
     "text": [
      "(3, 7)\n"
     ]
    }
   ],
   "source": [
    "def count(s):\n",
    "    upper=sum(1 for c in s if c.isupper())\n",
    "    lower=sum(1 for c in s if c.islower())\n",
    "    return upper,lower\n",
    "str=\"hello woRLD\"\n",
    "print(count(str))"
   ]
  },
  {
   "cell_type": "markdown",
   "metadata": {},
   "source": [
    "task 3"
   ]
  },
  {
   "cell_type": "code",
   "execution_count": 47,
   "metadata": {},
   "outputs": [
    {
     "name": "stdout",
     "output_type": "stream",
     "text": [
      "None\n"
     ]
    }
   ],
   "source": [
    "def k(s):\n",
    "    l=s[::-1]\n",
    "    if s==l:\n",
    "        return l\n",
    "        \n",
    "str=\"daka\"\n",
    "print(k(str))"
   ]
  },
  {
   "cell_type": "markdown",
   "metadata": {},
   "source": [
    "task 4"
   ]
  },
  {
   "cell_type": "code",
   "execution_count": 48,
   "metadata": {},
   "outputs": [
    {
     "name": "stdout",
     "output_type": "stream",
     "text": [
      "Square root of 12000 after 100 milliseconds is 109.54451150103323\n"
     ]
    }
   ],
   "source": [
    "import math\n",
    "import time\n",
    "def timeline(t,n):\n",
    "    time.sleep(t/1000)\n",
    "    res=math.sqrt(n)\n",
    "    print(f\"Square root of {n} after {t} milliseconds is {res}\")\n",
    "num=12000\n",
    "delay=100\n",
    "timeline(delay,num)\n",
    "\n",
    "\n"
   ]
  },
  {
   "cell_type": "markdown",
   "metadata": {},
   "source": [
    "task 5"
   ]
  },
  {
   "cell_type": "code",
   "execution_count": 50,
   "metadata": {},
   "outputs": [
    {
     "name": "stdout",
     "output_type": "stream",
     "text": [
      "True\n"
     ]
    }
   ],
   "source": [
    "def true(tuples):\n",
    "    if all(tuples)==0:\n",
    "        return False\n",
    "    else:\n",
    "        return True\n",
    "t=(1,2,[1,2])\n",
    "print(true(t))\n"
   ]
  }
 ],
 "metadata": {
  "kernelspec": {
   "display_name": "Python 3",
   "language": "python",
   "name": "python3"
  },
  "language_info": {
   "codemirror_mode": {
    "name": "ipython",
    "version": 3
   },
   "file_extension": ".py",
   "mimetype": "text/x-python",
   "name": "python",
   "nbconvert_exporter": "python",
   "pygments_lexer": "ipython3",
   "version": "3.13.2"
  }
 },
 "nbformat": 4,
 "nbformat_minor": 2
}
