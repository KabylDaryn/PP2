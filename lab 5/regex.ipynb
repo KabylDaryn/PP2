{
 "cells": [
  {
   "cell_type": "markdown",
   "metadata": {},
   "source": [
    "task 1"
   ]
  },
  {
   "cell_type": "code",
   "execution_count": 38,
   "metadata": {},
   "outputs": [
    {
     "name": "stdout",
     "output_type": "stream",
     "text": [
      "a\n",
      "ab\n",
      "abb\n",
      "abbb\n"
     ]
    }
   ],
   "source": [
    "import re\n",
    "pattern=r\"ab*\"\n",
    "t_strings=[\"a\",\"ab\",\"abb\",\"abbb\",\"ba\"]\n",
    "for string in t_strings:\n",
    "    match=re.match(pattern,string )\n",
    "    if match:\n",
    "        print(string)\n"
   ]
  },
  {
   "cell_type": "markdown",
   "metadata": {},
   "source": [
    "task 2"
   ]
  },
  {
   "cell_type": "code",
   "execution_count": 39,
   "metadata": {},
   "outputs": [
    {
     "name": "stdout",
     "output_type": "stream",
     "text": [
      "abb\n",
      "abbb\n"
     ]
    }
   ],
   "source": [
    "import re\n",
    "pattern=r\"ab{2,3}$\"\n",
    "t_strings=[\"a\",\"ab\",\"abb\",\"abbb\",\"ba\"]\n",
    "for string in t_strings:\n",
    "    match=re.match(pattern,string )\n",
    "    if match:\n",
    "        print(string)"
   ]
  },
  {
   "cell_type": "markdown",
   "metadata": {},
   "source": [
    "task 3"
   ]
  },
  {
   "cell_type": "code",
   "execution_count": 40,
   "metadata": {},
   "outputs": [
    {
     "name": "stdout",
     "output_type": "stream",
     "text": [
      "ankara_messi\n",
      "abitu_rent\n",
      "b_a\n"
     ]
    }
   ],
   "source": [
    "import re\n",
    "pattern=r\"[a-z]+_[a-z]+\"\n",
    "t_strings=[\"ankara_messi\",\"abitu_rent\",\"abbo\",\"abb__b\",\"b_a\"]\n",
    "for string in t_strings:\n",
    "    if re.fullmatch(pattern,string ):\n",
    "        print(string)"
   ]
  },
  {
   "cell_type": "markdown",
   "metadata": {},
   "source": [
    "task 4"
   ]
  },
  {
   "cell_type": "code",
   "execution_count": 41,
   "metadata": {},
   "outputs": [
    {
     "name": "stdout",
     "output_type": "stream",
     "text": [
      "Ankara_messi\n"
     ]
    }
   ],
   "source": [
    "import re\n",
    "pattern=r\"[A-Z][a-z]+\"\n",
    "t_strings=[\"Ankara_messi\",\"abitu_rent\",\"abbo\",\"abb__b\",\"b_a\"]\n",
    "for string in t_strings:\n",
    "    if re.search(pattern,string ):\n",
    "        print(string)"
   ]
  },
  {
   "cell_type": "markdown",
   "metadata": {},
   "source": [
    "task 5"
   ]
  },
  {
   "cell_type": "code",
   "execution_count": 42,
   "metadata": {},
   "outputs": [
    {
     "name": "stdout",
     "output_type": "stream",
     "text": [
      "abitu_renb\n",
      "abb__b\n"
     ]
    }
   ],
   "source": [
    "import re\n",
    "pattern=r\"a+.+b$\"\n",
    "t_strings=[\"Ankara_messi\",\"abitu_renb\",\"abbo\",\"abb__b\",\"b_a\"]\n",
    "for string in t_strings:\n",
    "    if re.search(pattern,string ):\n",
    "        print(string)"
   ]
  },
  {
   "cell_type": "markdown",
   "metadata": {},
   "source": [
    "task 6"
   ]
  },
  {
   "cell_type": "code",
   "execution_count": null,
   "metadata": {},
   "outputs": [
    {
     "name": "stdout",
     "output_type": "stream",
     "text": [
      "Ankara_messi::::\n",
      "abitu:rent\n",
      "ab:bo\n",
      "abb__b\n",
      "b_a\n"
     ]
    }
   ],
   "source": [
    "import re\n",
    "t_strings=[\"Ankara_messi   .\",\"abitu,rent\",\"ab bo\",\"abb__b\",\"b_a\"]\n",
    "for string in t_strings:\n",
    "    x= re.sub(\"[ ,.]\",\":\",string)\n",
    "    print(x)"
   ]
  },
  {
   "cell_type": "markdown",
   "metadata": {},
   "source": [
    "task 7"
   ]
  },
  {
   "cell_type": "code",
   "execution_count": 61,
   "metadata": {},
   "outputs": [
    {
     "name": "stdout",
     "output_type": "stream",
     "text": [
      "KuanyshGenius\n"
     ]
    }
   ],
   "source": [
    "import re\n",
    "snake_str=\"Kuanysh_genius\"\n",
    "camel_str=re.sub(r'_([a-z])', lambda match: match.group(1).upper() , snake_str)\n",
    "print(camel_str)"
   ]
  },
  {
   "cell_type": "markdown",
   "metadata": {},
   "source": [
    "task 8"
   ]
  },
  {
   "cell_type": "code",
   "execution_count": null,
   "metadata": {},
   "outputs": [
    {
     "name": "stdout",
     "output_type": "stream",
     "text": [
      "['', 'Hello', 'World', 'Example']\n"
     ]
    }
   ],
   "source": [
    "import re\n",
    "\n",
    "text = \"HelloWorldExample\"\n",
    "result = re.split(r'(?=[A-Z])', text)\n",
    "\n",
    "print(result)  \n"
   ]
  },
  {
   "cell_type": "markdown",
   "metadata": {},
   "source": [
    "task 9"
   ]
  },
  {
   "cell_type": "code",
   "execution_count": null,
   "metadata": {},
   "outputs": [
    {
     "name": "stdout",
     "output_type": "stream",
     "text": [
      "Expert Of Armrestling Kuanysh\n"
     ]
    }
   ],
   "source": [
    "import re\n",
    "text=\"ExpertOfArmrestlingKuanysh\"\n",
    "res=re.sub(r'(?<!^)(?=[A-Z])',' ', text)\n",
    "\n",
    "print(res)"
   ]
  },
  {
   "cell_type": "markdown",
   "metadata": {},
   "source": [
    "task 10"
   ]
  },
  {
   "cell_type": "code",
   "execution_count": null,
   "metadata": {},
   "outputs": [
    {
     "name": "stdout",
     "output_type": "stream",
     "text": [
      "daryn_loves_football\n"
     ]
    }
   ],
   "source": [
    "import re\n",
    "\n",
    "def camel_to_snake(camel_str):\n",
    "    return re.sub(r'(?<!^)(?=[A-Z])', '_', camel_str).lower()\n",
    "\n",
    "camel_str = \"DarynLovesFootball\"\n",
    "snake_str = camel_to_snake(camel_str)\n",
    "print(snake_str)\n",
    "\n"
   ]
  }
 ],
 "metadata": {
  "kernelspec": {
   "display_name": "Python 3",
   "language": "python",
   "name": "python3"
  },
  "language_info": {
   "codemirror_mode": {
    "name": "ipython",
    "version": 3
   },
   "file_extension": ".py",
   "mimetype": "text/x-python",
   "name": "python",
   "nbconvert_exporter": "python",
   "pygments_lexer": "ipython3",
   "version": "3.13.2"
  }
 },
 "nbformat": 4,
 "nbformat_minor": 2
}
