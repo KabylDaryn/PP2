{
 "cells": [
  {
   "cell_type": "code",
   "execution_count": 2,
   "metadata": {},
   "outputs": [
    {
     "name": "stdout",
     "output_type": "stream",
     "text": [
      "0.2617993877991494\n"
     ]
    }
   ],
   "source": [
    "import math\n",
    "def deg_to_rad(d):\n",
    "    return math.radians(d)\n",
    "degrees=15\n",
    "print(deg_to_rad(degrees))"
   ]
  },
  {
   "cell_type": "code",
   "execution_count": 4,
   "metadata": {},
   "outputs": [
    {
     "name": "stdout",
     "output_type": "stream",
     "text": [
      "27.5\n"
     ]
    }
   ],
   "source": [
    "import math\n",
    "def trapezoid(h,b_1,b_2):\n",
    "    return h*(b_1+b_2)/2\n",
    "heighs=5\n",
    "base_1=5\n",
    "base_2=6\n",
    "print(trapezoid(heighs,base_1,base_2))"
   ]
  },
  {
   "cell_type": "code",
   "execution_count": 7,
   "metadata": {},
   "outputs": [
    {
     "name": "stdout",
     "output_type": "stream",
     "text": [
      "625\n"
     ]
    }
   ],
   "source": [
    "import math\n",
    "def reg_polygon(n,s):\n",
    "    if n < 3:\n",
    "        raise ValueError(\"многоугольник имеет 3 или более углов\")\n",
    "    a=s/(2*math.tan(math.pi/n))\n",
    "    p=n*s\n",
    "    return int( p*a/2)\n",
    "num=4\n",
    "side=25\n",
    "print(reg_polygon(num,side))"
   ]
  },
  {
   "cell_type": "code",
   "execution_count": 8,
   "metadata": {},
   "outputs": [
    {
     "name": "stdout",
     "output_type": "stream",
     "text": [
      "30.0\n"
     ]
    }
   ],
   "source": [
    "import math\n",
    "def parallelogram(h,b):\n",
    "    return float(h*b)\n",
    "hei=5\n",
    "base=6\n",
    "print(parallelogram(hei,base))"
   ]
  }
 ],
 "metadata": {
  "kernelspec": {
   "display_name": "Python 3",
   "language": "python",
   "name": "python3"
  },
  "language_info": {
   "codemirror_mode": {
    "name": "ipython",
    "version": 3
   },
   "file_extension": ".py",
   "mimetype": "text/x-python",
   "name": "python",
   "nbconvert_exporter": "python",
   "pygments_lexer": "ipython3",
   "version": "3.13.2"
  }
 },
 "nbformat": 4,
 "nbformat_minor": 2
}
