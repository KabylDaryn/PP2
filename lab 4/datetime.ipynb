{
 "cells": [
  {
   "cell_type": "code",
   "execution_count": 1,
   "metadata": {},
   "outputs": [
    {
     "name": "stdout",
     "output_type": "stream",
     "text": [
      "Date five days ago: 2025-02-14\n"
     ]
    }
   ],
   "source": [
    "from datetime import datetime, timedelta\n",
    "\n",
    "current_date = datetime.now()\n",
    "new_date = current_date - timedelta(days=5)\n",
    "print(\"Date five days ago:\", new_date.strftime(\"%Y-%m-%d\"))\n"
   ]
  },
  {
   "cell_type": "code",
   "execution_count": 2,
   "metadata": {},
   "outputs": [
    {
     "name": "stdout",
     "output_type": "stream",
     "text": [
      "Yesterday: 2025-02-18\n",
      "Today: 2025-02-19\n",
      "Tomorrow: 2025-02-20\n"
     ]
    }
   ],
   "source": [
    "from datetime import datetime, timedelta\n",
    "\n",
    "today=datetime.today()\n",
    "yesterday= today - timedelta(days=1)\n",
    "tomorrow= today + timedelta(days=1)\n",
    "print(\"Yesterday:\",yesterday.strftime(\"%Y-%m-%d\") )\n",
    "print(\"Today:\", today.strftime(\"%Y-%m-%d\"))\n",
    "print(\"Tomorrow:\", tomorrow.strftime(\"%Y-%m-%d\"))"
   ]
  },
  {
   "cell_type": "code",
   "execution_count": null,
   "metadata": {},
   "outputs": [
    {
     "name": "stdout",
     "output_type": "stream",
     "text": [
      "Current time: 16:27:29\n"
     ]
    }
   ],
   "source": [
    "from datetime import datetime, timedelta\n",
    "\n",
    "time_now=datetime.now()\n",
    "print(\"Current time:\", time_now.strftime(\"%H:%M:%S\"))"
   ]
  },
  {
   "cell_type": "code",
   "execution_count": 7,
   "metadata": {},
   "outputs": [
    {
     "name": "stdout",
     "output_type": "stream",
     "text": [
      "different in seconds: 63118030.0\n"
     ]
    }
   ],
   "source": [
    "from datetime import datetime, timedelta\n",
    "\n",
    "date_1=datetime(2027,12,31,23,49,9)\n",
    "date_2=datetime(2025,12,31,11,1,59)\n",
    "diff_seconds=(date_1-date_2).total_seconds()\n",
    "print(\"different in seconds:\", diff_seconds)"
   ]
  }
 ],
 "metadata": {
  "kernelspec": {
   "display_name": "Python 3",
   "language": "python",
   "name": "python3"
  },
  "language_info": {
   "codemirror_mode": {
    "name": "ipython",
    "version": 3
   },
   "file_extension": ".py",
   "mimetype": "text/x-python",
   "name": "python",
   "nbconvert_exporter": "python",
   "pygments_lexer": "ipython3",
   "version": "3.13.2"
  }
 },
 "nbformat": 4,
 "nbformat_minor": 2
}
